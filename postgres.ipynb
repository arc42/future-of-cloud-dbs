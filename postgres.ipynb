{
 "cells": [
  {
   "cell_type": "markdown",
   "metadata": {},
   "source": [
    "# Create a Postgres Database\n",
    "\n",
    "We use a docker container to create a Postgres Database\n",
    "\n",
    "First, get postgres:\n",
    "\n",
    "`docker pull postgres:latest`\n",
    "\n",
    "### Run the database (initial run)\n",
    "\n",
    "`docker run --name my-postgres -e POSTGRES_PASSWORD=mysecretpassword -p 5432:5432 -d postgres``\n",
    "\n",
    "This command does the following:\n",
    "\n",
    "* Creates a container named \"my-postgres\"\n",
    "* Sets the PostgreSQL password to \"mysecretpassword\"\n",
    "* Maps port 5432 on your host to port 5432 in the container\n",
    "* Runs the container in detached mode (-d)\n",
    "\n",
    ">Explanation:\n",
    "\n",
    "> * `--name my-postgres`: Assigns a name to your container for easy reference\n",
    "> * `-e POSTGRES_PASSWORD=mysecretpassword`: Sets the password for the default \"postgres\" user\n",
    "> * `-p 5432:5432`: Maps the host port to the container port\n",
    "> * `-d`: Runs the container in the background\n",
    "\n",
    "### Run the database\n",
    "\n",
    "If the container is already running, e.g. from a previous, use the following command:\n",
    "\n",
    "`docker start my-postgres`\n",
    "\n",
    "\n",
    "### Connect to the database\n",
    "\n",
    "Using a GUI tool like pgAdmin, connect with these details:\n",
    "* Host: localhost\n",
    "* Port: 5432\n",
    "* Username: postgres\n",
    "* Password: mysecretpassword\n",
    "\n",
    "### Keeping the Data on a Volume\n",
    "\n",
    "For data persistence, you can add a volume:\n",
    "\n",
    "`docker run --name my-postgres -e POSTGRES_PASSWORD=mysecretpassword -p 5432:5432 -v ${PWD}/postgres-data:/var/lib/postgresql/data -d postgres`\n",
    "\n",
    "This command mounts a local directory `./postgres-data` to the container's data directory, ensuring your data survives container restarts\n",
    "\n"
   ]
  }
 ],
 "metadata": {
  "language_info": {
   "name": "python"
  }
 },
 "nbformat": 4,
 "nbformat_minor": 2
}
